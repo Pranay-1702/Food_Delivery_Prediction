{
 "cells": [
  {
   "cell_type": "code",
   "execution_count": 2,
   "id": "ebe75172-fefa-44a1-beb2-93ffc30add78",
   "metadata": {},
   "outputs": [],
   "source": [
    "import pandas as pd\n",
    "import numpy as np\n",
    "df = pd.read_csv('Food_Delivery_Times.csv')"
   ]
  },
  {
   "cell_type": "code",
   "execution_count": 3,
   "id": "fc146e99-0f76-400a-96c9-81d818e14b49",
   "metadata": {},
   "outputs": [
    {
     "name": "stdout",
     "output_type": "stream",
     "text": [
      "<class 'pandas.core.frame.DataFrame'>\n",
      "RangeIndex: 1000 entries, 0 to 999\n",
      "Data columns (total 9 columns):\n",
      " #   Column                  Non-Null Count  Dtype  \n",
      "---  ------                  --------------  -----  \n",
      " 0   Order_ID                1000 non-null   int64  \n",
      " 1   Distance_km             1000 non-null   float64\n",
      " 2   Weather                 970 non-null    object \n",
      " 3   Traffic_Level           970 non-null    object \n",
      " 4   Time_of_Day             970 non-null    object \n",
      " 5   Vehicle_Type            1000 non-null   object \n",
      " 6   Preparation_Time_min    1000 non-null   int64  \n",
      " 7   Courier_Experience_yrs  970 non-null    float64\n",
      " 8   Delivery_Time_min       1000 non-null   int64  \n",
      "dtypes: float64(2), int64(3), object(4)\n",
      "memory usage: 70.4+ KB\n"
     ]
    }
   ],
   "source": [
    "df.info()"
   ]
  },
  {
   "cell_type": "code",
   "execution_count": 8,
   "id": "33d333e4-1b02-433d-b89d-c951a78ed305",
   "metadata": {},
   "outputs": [
    {
     "data": {
      "text/plain": [
       "Order_ID                   0\n",
       "Distance_km                0\n",
       "Weather                   30\n",
       "Traffic_Level             30\n",
       "Time_of_Day               30\n",
       "Vehicle_Type               0\n",
       "Preparation_Time_min       0\n",
       "Courier_Experience_yrs    30\n",
       "Delivery_Time_min          0\n",
       "dtype: int64"
      ]
     },
     "execution_count": 8,
     "metadata": {},
     "output_type": "execute_result"
    }
   ],
   "source": [
    "df.isnull().sum()"
   ]
  },
  {
   "cell_type": "code",
   "execution_count": 9,
   "id": "ffaba7db-982c-4a7e-8dab-73b0f2ab0370",
   "metadata": {},
   "outputs": [
    {
     "data": {
      "text/html": [
       "<div>\n",
       "<style scoped>\n",
       "    .dataframe tbody tr th:only-of-type {\n",
       "        vertical-align: middle;\n",
       "    }\n",
       "\n",
       "    .dataframe tbody tr th {\n",
       "        vertical-align: top;\n",
       "    }\n",
       "\n",
       "    .dataframe thead th {\n",
       "        text-align: right;\n",
       "    }\n",
       "</style>\n",
       "<table border=\"1\" class=\"dataframe\">\n",
       "  <thead>\n",
       "    <tr style=\"text-align: right;\">\n",
       "      <th></th>\n",
       "      <th>Order_ID</th>\n",
       "      <th>Distance_km</th>\n",
       "      <th>Weather</th>\n",
       "      <th>Traffic_Level</th>\n",
       "      <th>Time_of_Day</th>\n",
       "      <th>Vehicle_Type</th>\n",
       "      <th>Preparation_Time_min</th>\n",
       "      <th>Courier_Experience_yrs</th>\n",
       "      <th>Delivery_Time_min</th>\n",
       "    </tr>\n",
       "  </thead>\n",
       "  <tbody>\n",
       "    <tr>\n",
       "      <th>0</th>\n",
       "      <td>522</td>\n",
       "      <td>7.93</td>\n",
       "      <td>Windy</td>\n",
       "      <td>Low</td>\n",
       "      <td>Afternoon</td>\n",
       "      <td>Scooter</td>\n",
       "      <td>12</td>\n",
       "      <td>1.0</td>\n",
       "      <td>43</td>\n",
       "    </tr>\n",
       "    <tr>\n",
       "      <th>1</th>\n",
       "      <td>738</td>\n",
       "      <td>16.42</td>\n",
       "      <td>Clear</td>\n",
       "      <td>Medium</td>\n",
       "      <td>Evening</td>\n",
       "      <td>Bike</td>\n",
       "      <td>20</td>\n",
       "      <td>2.0</td>\n",
       "      <td>84</td>\n",
       "    </tr>\n",
       "    <tr>\n",
       "      <th>2</th>\n",
       "      <td>741</td>\n",
       "      <td>9.52</td>\n",
       "      <td>Foggy</td>\n",
       "      <td>Low</td>\n",
       "      <td>Night</td>\n",
       "      <td>Scooter</td>\n",
       "      <td>28</td>\n",
       "      <td>1.0</td>\n",
       "      <td>59</td>\n",
       "    </tr>\n",
       "    <tr>\n",
       "      <th>3</th>\n",
       "      <td>661</td>\n",
       "      <td>7.44</td>\n",
       "      <td>Rainy</td>\n",
       "      <td>Medium</td>\n",
       "      <td>Afternoon</td>\n",
       "      <td>Scooter</td>\n",
       "      <td>5</td>\n",
       "      <td>1.0</td>\n",
       "      <td>37</td>\n",
       "    </tr>\n",
       "    <tr>\n",
       "      <th>4</th>\n",
       "      <td>412</td>\n",
       "      <td>19.03</td>\n",
       "      <td>Clear</td>\n",
       "      <td>Low</td>\n",
       "      <td>Morning</td>\n",
       "      <td>Bike</td>\n",
       "      <td>16</td>\n",
       "      <td>5.0</td>\n",
       "      <td>68</td>\n",
       "    </tr>\n",
       "    <tr>\n",
       "      <th>...</th>\n",
       "      <td>...</td>\n",
       "      <td>...</td>\n",
       "      <td>...</td>\n",
       "      <td>...</td>\n",
       "      <td>...</td>\n",
       "      <td>...</td>\n",
       "      <td>...</td>\n",
       "      <td>...</td>\n",
       "      <td>...</td>\n",
       "    </tr>\n",
       "    <tr>\n",
       "      <th>995</th>\n",
       "      <td>107</td>\n",
       "      <td>8.50</td>\n",
       "      <td>Clear</td>\n",
       "      <td>High</td>\n",
       "      <td>Evening</td>\n",
       "      <td>Car</td>\n",
       "      <td>13</td>\n",
       "      <td>3.0</td>\n",
       "      <td>54</td>\n",
       "    </tr>\n",
       "    <tr>\n",
       "      <th>996</th>\n",
       "      <td>271</td>\n",
       "      <td>16.28</td>\n",
       "      <td>Rainy</td>\n",
       "      <td>Low</td>\n",
       "      <td>Morning</td>\n",
       "      <td>Scooter</td>\n",
       "      <td>8</td>\n",
       "      <td>9.0</td>\n",
       "      <td>71</td>\n",
       "    </tr>\n",
       "    <tr>\n",
       "      <th>997</th>\n",
       "      <td>861</td>\n",
       "      <td>15.62</td>\n",
       "      <td>Snowy</td>\n",
       "      <td>High</td>\n",
       "      <td>Evening</td>\n",
       "      <td>Scooter</td>\n",
       "      <td>26</td>\n",
       "      <td>2.0</td>\n",
       "      <td>81</td>\n",
       "    </tr>\n",
       "    <tr>\n",
       "      <th>998</th>\n",
       "      <td>436</td>\n",
       "      <td>14.17</td>\n",
       "      <td>Clear</td>\n",
       "      <td>Low</td>\n",
       "      <td>Afternoon</td>\n",
       "      <td>Bike</td>\n",
       "      <td>8</td>\n",
       "      <td>0.0</td>\n",
       "      <td>55</td>\n",
       "    </tr>\n",
       "    <tr>\n",
       "      <th>999</th>\n",
       "      <td>103</td>\n",
       "      <td>6.63</td>\n",
       "      <td>Foggy</td>\n",
       "      <td>Low</td>\n",
       "      <td>Night</td>\n",
       "      <td>Scooter</td>\n",
       "      <td>24</td>\n",
       "      <td>3.0</td>\n",
       "      <td>58</td>\n",
       "    </tr>\n",
       "  </tbody>\n",
       "</table>\n",
       "<p>1000 rows × 9 columns</p>\n",
       "</div>"
      ],
      "text/plain": [
       "     Order_ID  Distance_km Weather Traffic_Level Time_of_Day Vehicle_Type  \\\n",
       "0         522         7.93   Windy           Low   Afternoon      Scooter   \n",
       "1         738        16.42   Clear        Medium     Evening         Bike   \n",
       "2         741         9.52   Foggy           Low       Night      Scooter   \n",
       "3         661         7.44   Rainy        Medium   Afternoon      Scooter   \n",
       "4         412        19.03   Clear           Low     Morning         Bike   \n",
       "..        ...          ...     ...           ...         ...          ...   \n",
       "995       107         8.50   Clear          High     Evening          Car   \n",
       "996       271        16.28   Rainy           Low     Morning      Scooter   \n",
       "997       861        15.62   Snowy          High     Evening      Scooter   \n",
       "998       436        14.17   Clear           Low   Afternoon         Bike   \n",
       "999       103         6.63   Foggy           Low       Night      Scooter   \n",
       "\n",
       "     Preparation_Time_min  Courier_Experience_yrs  Delivery_Time_min  \n",
       "0                      12                     1.0                 43  \n",
       "1                      20                     2.0                 84  \n",
       "2                      28                     1.0                 59  \n",
       "3                       5                     1.0                 37  \n",
       "4                      16                     5.0                 68  \n",
       "..                    ...                     ...                ...  \n",
       "995                    13                     3.0                 54  \n",
       "996                     8                     9.0                 71  \n",
       "997                    26                     2.0                 81  \n",
       "998                     8                     0.0                 55  \n",
       "999                    24                     3.0                 58  \n",
       "\n",
       "[1000 rows x 9 columns]"
      ]
     },
     "execution_count": 9,
     "metadata": {},
     "output_type": "execute_result"
    }
   ],
   "source": [
    "df"
   ]
  },
  {
   "cell_type": "code",
   "execution_count": 28,
   "id": "d0809a57-e696-4d7b-acba-7a858c02bd9e",
   "metadata": {},
   "outputs": [
    {
     "data": {
      "text/plain": [
       "Index(['Order_ID', 'Distance_km', 'Weather', 'Traffic_Level', 'Time_of_Day',\n",
       "       'Vehicle_Type', 'Preparation_Time_min', 'Courier_Experience_yrs',\n",
       "       'Delivery_Time_min'],\n",
       "      dtype='object')"
      ]
     },
     "execution_count": 28,
     "metadata": {},
     "output_type": "execute_result"
    }
   ],
   "source": [
    "df.columns"
   ]
  },
  {
   "cell_type": "markdown",
   "id": "1035348a-af5f-4079-8184-59d972e627f0",
   "metadata": {},
   "source": [
    "## droping null value rows"
   ]
  },
  {
   "cell_type": "code",
   "execution_count": 10,
   "id": "ed7e693e-dcea-4c14-ac6f-8ae16ac3cb6a",
   "metadata": {},
   "outputs": [
    {
     "data": {
      "text/plain": [
       "(1000, 9)"
      ]
     },
     "execution_count": 10,
     "metadata": {},
     "output_type": "execute_result"
    }
   ],
   "source": [
    "df.shape"
   ]
  },
  {
   "cell_type": "code",
   "execution_count": 12,
   "id": "c3cffd75-d16f-48ef-b63e-42bb6171139c",
   "metadata": {},
   "outputs": [
    {
     "data": {
      "text/plain": [
       "Time_of_Day\n",
       "Morning      308\n",
       "Evening      293\n",
       "Afternoon    284\n",
       "Night         85\n",
       "Name: count, dtype: int64"
      ]
     },
     "execution_count": 12,
     "metadata": {},
     "output_type": "execute_result"
    }
   ],
   "source": [
    "df['Time_of_Day'].value_counts()"
   ]
  },
  {
   "cell_type": "code",
   "execution_count": 13,
   "id": "526dee4d-fd7f-45f8-8434-1f594caaf07b",
   "metadata": {},
   "outputs": [],
   "source": [
    "df.dropna(inplace=True)"
   ]
  },
  {
   "cell_type": "code",
   "execution_count": 14,
   "id": "23d3664d-89cf-4bd5-95af-fe052b957e14",
   "metadata": {},
   "outputs": [
    {
     "data": {
      "text/plain": [
       "(883, 9)"
      ]
     },
     "execution_count": 14,
     "metadata": {},
     "output_type": "execute_result"
    }
   ],
   "source": [
    "df.shape"
   ]
  },
  {
   "cell_type": "code",
   "execution_count": 15,
   "id": "5bf79685-c6b3-49e8-9dd9-ad89d0e20bc6",
   "metadata": {},
   "outputs": [
    {
     "name": "stdout",
     "output_type": "stream",
     "text": [
      "<class 'pandas.core.frame.DataFrame'>\n",
      "Index: 883 entries, 0 to 999\n",
      "Data columns (total 9 columns):\n",
      " #   Column                  Non-Null Count  Dtype  \n",
      "---  ------                  --------------  -----  \n",
      " 0   Order_ID                883 non-null    int64  \n",
      " 1   Distance_km             883 non-null    float64\n",
      " 2   Weather                 883 non-null    object \n",
      " 3   Traffic_Level           883 non-null    object \n",
      " 4   Time_of_Day             883 non-null    object \n",
      " 5   Vehicle_Type            883 non-null    object \n",
      " 6   Preparation_Time_min    883 non-null    int64  \n",
      " 7   Courier_Experience_yrs  883 non-null    float64\n",
      " 8   Delivery_Time_min       883 non-null    int64  \n",
      "dtypes: float64(2), int64(3), object(4)\n",
      "memory usage: 69.0+ KB\n"
     ]
    }
   ],
   "source": [
    "df.info()"
   ]
  },
  {
   "cell_type": "markdown",
   "id": "f222e0f3-e03b-490d-b492-dfb52102d802",
   "metadata": {},
   "source": [
    "## Checking Correlation with 'Preparation_Time_min' with other numerical columns"
   ]
  },
  {
   "cell_type": "code",
   "execution_count": 19,
   "id": "386c1d65-6aa0-4504-98db-f888fd985bbc",
   "metadata": {},
   "outputs": [],
   "source": [
    "from scipy.stats import pearsonr\n",
    "\n",
    "def correlation_with_preparation_time(df):\n",
    "    \"\"\"\n",
    "    Calculates Pearson correlation between 'Preparation_Time_min'\n",
    "    and all other numerical columns in the given DataFrame.\n",
    "\n",
    "    Parameters:\n",
    "        df (pd.DataFrame): Input DataFrame\n",
    "\n",
    "    Returns:\n",
    "        pd.DataFrame: Correlation coefficient and p-value for each comparison\n",
    "    \"\"\"\n",
    "    target_col = 'Preparation_Time_min'\n",
    "    \n",
    "    # Select only numeric columns and exclude the target\n",
    "    numeric_cols = df.select_dtypes(include=['int64', 'float64']).columns.tolist()\n",
    "    if target_col not in numeric_cols:\n",
    "        raise ValueError(f\"'{target_col}' not found in numeric columns.\")\n",
    "    numeric_cols.remove(target_col)\n",
    "\n",
    "    results = []\n",
    "    for col in numeric_cols:\n",
    "        clean_df = df[[target_col, col]].dropna()\n",
    "        if not clean_df.empty:\n",
    "            r, p = pearsonr(clean_df[target_col], clean_df[col])\n",
    "            results.append({\n",
    "                'Compared With': col,\n",
    "                'Correlation Coefficient': round(r, 4),\n",
    "                'P-Value': p\n",
    "            })\n",
    "    return pd.DataFrame(results)\n"
   ]
  },
  {
   "cell_type": "code",
   "execution_count": 22,
   "id": "921723da-b0cd-4394-be76-6685aa3e1391",
   "metadata": {},
   "outputs": [
    {
     "name": "stdout",
     "output_type": "stream",
     "text": [
      "            Compared With  Correlation Coefficient       P-Value\n",
      "0                Order_ID                  -0.0351  2.674649e-01\n",
      "1             Distance_km                  -0.0090  7.753279e-01\n",
      "2  Courier_Experience_yrs                  -0.0308  3.374674e-01\n",
      "3       Delivery_Time_min                   0.3073  2.549879e-23\n"
     ]
    }
   ],
   "source": [
    "df = pd.read_csv('Food_Delivery_Times.csv')\n",
    "result_df = correlation_with_preparation_time(df)\n",
    "print(result_df)"
   ]
  },
  {
   "cell_type": "markdown",
   "id": "132ce45c-149a-484d-9eb7-2efa06abbf8c",
   "metadata": {},
   "source": [
    "## Checking Anova with wheather column with other columns in dataset."
   ]
  },
  {
   "cell_type": "code",
   "execution_count": 23,
   "id": "3061c17e-df0a-476a-bc38-c0aa3cd0c7c6",
   "metadata": {},
   "outputs": [],
   "source": [
    "from scipy.stats import f_oneway\n",
    "import pandas as pd\n",
    "\n",
    "def anova_with_weather(df):\n",
    "    \"\"\"\n",
    "    Perform one-way ANOVA between 'Weather' (categorical) and each numerical column.\n",
    "\n",
    "    Parameters:\n",
    "        df (pd.DataFrame): Input DataFrame\n",
    "\n",
    "    Returns:\n",
    "        pd.DataFrame: F-statistics and p-values for each numeric column tested against 'Weather'\n",
    "    \"\"\"\n",
    "    category_col = 'Weather'\n",
    "    numeric_cols = df.select_dtypes(include=['int64', 'float64']).columns.tolist()\n",
    "\n",
    "    results = []\n",
    "\n",
    "    for num_col in numeric_cols:\n",
    "        clean_df = df[[category_col, num_col]].dropna()\n",
    "        grouped_data = clean_df.groupby(category_col)[num_col].apply(list)\n",
    "\n",
    "        if len(grouped_data) >= 2:\n",
    "            f_stat, p_val = f_oneway(*grouped_data)\n",
    "            results.append({\n",
    "                'Numeric Column': num_col,\n",
    "                'F-Statistic': round(f_stat, 4),\n",
    "                'P-Value': round(p_val, 6)\n",
    "            })\n",
    "\n",
    "    return pd.DataFrame(results)\n"
   ]
  },
  {
   "cell_type": "code",
   "execution_count": 24,
   "id": "41c1f2ad-d95a-4d0d-b242-b6d281a0ccf4",
   "metadata": {},
   "outputs": [
    {
     "name": "stdout",
     "output_type": "stream",
     "text": [
      "           Numeric Column  F-Statistic   P-Value\n",
      "0                Order_ID       1.1221  0.344598\n",
      "1             Distance_km       1.6936  0.149263\n",
      "2    Preparation_Time_min       0.7687  0.545661\n",
      "3  Courier_Experience_yrs       2.0990  0.079013\n",
      "4       Delivery_Time_min      10.4565  0.000000\n"
     ]
    }
   ],
   "source": [
    "df = pd.read_csv('Food_Delivery_Times.csv')\n",
    "anova_results = anova_with_weather(df)\n",
    "print(anova_results)\n"
   ]
  },
  {
   "cell_type": "code",
   "execution_count": null,
   "id": "da3479ed-a9aa-47b5-af0e-4b6e4df9115a",
   "metadata": {},
   "outputs": [],
   "source": []
  },
  {
   "cell_type": "code",
   "execution_count": 25,
   "id": "0cc251a8-4949-4b56-9238-3817df726365",
   "metadata": {},
   "outputs": [],
   "source": [
    "def run_chi_square_tests(df):\n",
    "    from scipy.stats import chi2_contingency\n",
    "    cat_cols = ['Weather', 'Traffic_Level', 'Time_of_Day', 'Vehicle_Type']\n",
    "    results = []\n",
    "\n",
    "    for i in range(len(cat_cols)):\n",
    "        for j in range(i + 1, len(cat_cols)):\n",
    "            col1, col2 = cat_cols[i], cat_cols[j]\n",
    "            contingency = pd.crosstab(df[col1], df[col2])\n",
    "            chi2, p, dof, _ = chi2_contingency(contingency)\n",
    "            results.append({\n",
    "                'Variable 1': col1,\n",
    "                'Variable 2': col2,\n",
    "                'Chi2 Statistic': round(chi2, 4),\n",
    "                'P-Value': p,\n",
    "                'Degrees of Freedom': dof\n",
    "            })\n",
    "    return pd.DataFrame(results)\n"
   ]
  },
  {
   "cell_type": "code",
   "execution_count": 27,
   "id": "fae2fdab-8ea1-4f72-ae2e-6821f4c385d3",
   "metadata": {},
   "outputs": [
    {
     "name": "stdout",
     "output_type": "stream",
     "text": [
      "\n",
      "Chi-Square:\n",
      "       Variable 1     Variable 2  Chi2 Statistic   P-Value  Degrees of Freedom\n",
      "0        Weather  Traffic_Level         12.7397  0.121124                   8\n",
      "1        Weather    Time_of_Day          7.8375  0.797694                  12\n",
      "2        Weather   Vehicle_Type         10.9221  0.206155                   8\n",
      "3  Traffic_Level    Time_of_Day          5.3737  0.496853                   6\n",
      "4  Traffic_Level   Vehicle_Type          6.0127  0.198199                   4\n",
      "5    Time_of_Day   Vehicle_Type         12.2677  0.056257                   6\n"
     ]
    }
   ],
   "source": [
    "df = pd.read_csv('Food_Delivery_Times.csv')\n",
    "\n",
    "\n",
    "chi_square_df = run_chi_square_tests(df)\n",
    "\n",
    "print(\"\\nChi-Square:\\n\", chi_square_df)\n"
   ]
  },
  {
   "cell_type": "markdown",
   "id": "09419de7-6051-49b2-9027-29405586d342",
   "metadata": {},
   "source": [
    "## Delivery Time Predictor"
   ]
  },
  {
   "cell_type": "code",
   "execution_count": 29,
   "id": "fe373b17-6765-489c-b35e-89b93310da47",
   "metadata": {},
   "outputs": [
    {
     "name": "stdout",
     "output_type": "stream",
     "text": [
      "Mean Absolute Error: 6.79 minutes\n"
     ]
    },
    {
     "data": {
      "text/plain": [
       "['delivery_time_predictor.pkl']"
      ]
     },
     "execution_count": 29,
     "metadata": {},
     "output_type": "execute_result"
    }
   ],
   "source": [
    "import pandas as pd\n",
    "from sklearn.model_selection import train_test_split\n",
    "from sklearn.ensemble import RandomForestRegressor\n",
    "from sklearn.pipeline import Pipeline\n",
    "from sklearn.compose import ColumnTransformer\n",
    "from sklearn.preprocessing import OneHotEncoder, StandardScaler\n",
    "from sklearn.metrics import mean_absolute_error\n",
    "import joblib\n",
    "\n",
    "# Load the dataset\n",
    "df = pd.read_csv('Food_Delivery_Times.csv')\n",
    "\n",
    "# Define features and target\n",
    "features = ['Distance_km', 'Weather', 'Traffic_Level', 'Time_of_Day',\n",
    "            'Vehicle_Type', 'Preparation_Time_min', 'Courier_Experience_yrs']\n",
    "target = 'Delivery_Time_min'\n",
    "\n",
    "# Drop rows with missing values in relevant columns\n",
    "df = df.dropna(subset=features + [target])\n",
    "\n",
    "X = df[features]\n",
    "y = df[target]\n",
    "\n",
    "# Split the data\n",
    "X_train, X_test, y_train, y_test = train_test_split(X, y, test_size=0.2, random_state=42)\n",
    "\n",
    "# Column types\n",
    "categorical_cols = ['Weather', 'Traffic_Level', 'Time_of_Day', 'Vehicle_Type']\n",
    "numerical_cols = ['Distance_km', 'Preparation_Time_min', 'Courier_Experience_yrs']\n",
    "\n",
    "# Preprocessing\n",
    "preprocessor = ColumnTransformer(\n",
    "    transformers=[\n",
    "        ('num', StandardScaler(), numerical_cols),\n",
    "        ('cat', OneHotEncoder(handle_unknown='ignore'), categorical_cols)\n",
    "    ])\n",
    "\n",
    "# Pipeline\n",
    "model = Pipeline(steps=[\n",
    "    ('preprocessor', preprocessor),\n",
    "    ('regressor', RandomForestRegressor(n_estimators=100, random_state=42))\n",
    "])\n",
    "\n",
    "# Train the model\n",
    "model.fit(X_train, y_train)\n",
    "\n",
    "# Evaluate\n",
    "preds = model.predict(X_test)\n",
    "mae = mean_absolute_error(y_test, preds)\n",
    "print(f\"Mean Absolute Error: {mae:.2f} minutes\")\n",
    "\n",
    "# Save the model\n",
    "joblib.dump(model, 'delivery_time_predictor.pkl')"
   ]
  },
  {
   "cell_type": "code",
   "execution_count": 37,
   "id": "0a062223-6b27-4e6e-a649-a45d7affa3cb",
   "metadata": {},
   "outputs": [
    {
     "name": "stdout",
     "output_type": "stream",
     "text": [
      "Predicted Delivery Time: 42.46 minutes\n"
     ]
    }
   ],
   "source": [
    "import joblib\n",
    "import pandas as pd\n",
    "\n",
    "# Load the saved model\n",
    "model = joblib.load('delivery_time_predictor.pkl')\n",
    "\n",
    "# Sample input (replace these values with your real input)\n",
    "input_data = pd.DataFrame([{\n",
    "    'Distance_km': 6.2,\n",
    "    'Weather': 'Rainy',\n",
    "    'Traffic_Level': 'High',\n",
    "    'Time_of_Day': 'Afternoon',\n",
    "    'Vehicle_Type': 'Scooter',\n",
    "    'Preparation_Time_min': 10,\n",
    "    'Courier_Experience_yrs': 1\n",
    "}])\n",
    "\n",
    "# Predict delivery time\n",
    "predicted_time = model.predict(input_data)\n",
    "print(f\"Predicted Delivery Time: {predicted_time[0]:.2f} minutes\")\n"
   ]
  },
  {
   "cell_type": "code",
   "execution_count": 36,
   "id": "bb01f17d-307d-4177-96a6-271ec11b35cb",
   "metadata": {},
   "outputs": [
    {
     "name": "stdout",
     "output_type": "stream",
     "text": [
      "* Running on local URL:  http://127.0.0.1:7860\n",
      "* To create a public link, set `share=True` in `launch()`.\n"
     ]
    },
    {
     "data": {
      "text/html": [
       "<div><iframe src=\"http://127.0.0.1:7860/\" width=\"100%\" height=\"500\" allow=\"autoplay; camera; microphone; clipboard-read; clipboard-write;\" frameborder=\"0\" allowfullscreen></iframe></div>"
      ],
      "text/plain": [
       "<IPython.core.display.HTML object>"
      ]
     },
     "metadata": {},
     "output_type": "display_data"
    },
    {
     "data": {
      "text/plain": []
     },
     "execution_count": 36,
     "metadata": {},
     "output_type": "execute_result"
    }
   ],
   "source": [
    "import gradio as gr\n",
    "import pandas as pd\n",
    "import joblib\n",
    "\n",
    "# Load the model\n",
    "model = joblib.load('delivery_time_predictor.pkl')\n",
    "\n",
    "# Define prediction function\n",
    "def predict_delivery_time(distance_km, weather, traffic_level, time_of_day,\n",
    "                          vehicle_type, prep_time_min, courier_experience_yrs):\n",
    "    input_df = pd.DataFrame([{\n",
    "        'Distance_km': distance_km,\n",
    "        'Weather': weather,\n",
    "        'Traffic_Level': traffic_level,\n",
    "        'Time_of_Day': time_of_day,\n",
    "        'Vehicle_Type': vehicle_type,\n",
    "        'Preparation_Time_min': prep_time_min,\n",
    "        'Courier_Experience_yrs': courier_experience_yrs\n",
    "    }])\n",
    "    \n",
    "    prediction = model.predict(input_df)[0]\n",
    "    return f\"Estimated Delivery Time: {prediction:.2f} minutes\"\n",
    "\n",
    "# Interface\n",
    "interface = gr.Interface(\n",
    "    fn=predict_delivery_time,\n",
    "    inputs=[\n",
    "        gr.Number(label=\"Distance (km)\"),\n",
    "        gr.Dropdown(choices=['Sunny', 'Rainy', 'Windy', 'Cloudy', 'Stormy'], label=\"Weather\"),\n",
    "        gr.Dropdown(choices=['Low', 'Medium', 'High'], label=\"Traffic Level\"),\n",
    "        gr.Dropdown(choices=['Morning', 'Afternoon', 'Evening', 'Night'], label=\"Time of Day\"),\n",
    "        gr.Dropdown(choices=['Bike', 'Scooter', 'Car'], label=\"Vehicle Type\"),\n",
    "        gr.Number(label=\"Preparation Time (min)\"),\n",
    "        gr.Number(label=\"Courier Experience (yrs)\")\n",
    "    ],\n",
    "    outputs=\"text\",\n",
    "    title=\"Food Delivery Time Predictor\",\n",
    "    description=\"Enter delivery details to predict estimated delivery time in minutes.\"\n",
    ")\n",
    "\n",
    "# Launch the interface\n",
    "interface.launch()\n"
   ]
  }
 ],
 "metadata": {
  "kernelspec": {
   "display_name": "Python 3 (ipykernel)",
   "language": "python",
   "name": "python3"
  },
  "language_info": {
   "codemirror_mode": {
    "name": "ipython",
    "version": 3
   },
   "file_extension": ".py",
   "mimetype": "text/x-python",
   "name": "python",
   "nbconvert_exporter": "python",
   "pygments_lexer": "ipython3",
   "version": "3.12.7"
  }
 },
 "nbformat": 4,
 "nbformat_minor": 5
}
